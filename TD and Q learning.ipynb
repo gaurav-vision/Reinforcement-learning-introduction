{
 "cells": [
  {
   "cell_type": "markdown",
   "metadata": {},
   "source": [
    "# Model Free Prediction and Control with temporal differece and Q learning\n",
    "\n",
    "\n",
    "\n"
   ]
  },
  {
   "cell_type": "markdown",
   "metadata": {},
   "source": [
    "# Learning Goal"
   ]
  },
  {
   "cell_type": "markdown",
   "metadata": {},
   "source": [
    "Understand TD for prediction \n",
    "\n",
    "Understand SARSA for on policy control\n",
    "\n",
    "Understand Q learning for off policy control\n",
    "\n",
    "Understand the benefits of TD algorithm over MC and DP approaches\n",
    "\n",
    "Understand how n step methods unify MC and TD approaches\n",
    "\n",
    "Understand the backword and forward view of TD lambda"
   ]
  },
  {
   "cell_type": "markdown",
   "metadata": {},
   "source": [
    "TD learning is the combination of Monte carlo and dynamic programming approaches. Like monte carlo TD works based on samples it does not require a model of the environment. Like DP, TD use bootstraping to make updates. "
   ]
  },
  {
   "cell_type": "markdown",
   "metadata": {},
   "source": [
    "Wether MC or TD which is better it depends on problem, there is no theoretical approch to proof clear winner."
   ]
  },
  {
   "cell_type": "markdown",
   "metadata": {},
   "source": [
    "General update rule: Q[s,a] += learning_rate * (td_target - Q[s,a]).\n",
    "\n",
    "td_target - Q[s,a] is also called TD error.\n",
    "\n",
    "SARSA is the on policy TD control\n",
    "\n",
    "TD target for SARSA: R[t+1] + discount_factor * Q[next_state][next_action]\n",
    "\n",
    "Q learning is the off policy TD control\n",
    "\n",
    "TD target for Q learning R[t+1] + discount_factor * max(Q[next_state])\n",
    "\n",
    "Q learning has positive bias because it uses the maximum of estimated Q value to estimate the maximum action value, all from the same experience. Double Q learning gets arround this by the splitting the experience and using different Q functions for maximization and estimation.\n",
    "\n",
    "N step methods MC and TD approaches. They makes updates based on n step instead of single step(TD - 0) or a full episode (MC)"
   ]
  },
  {
   "cell_type": "code",
   "execution_count": null,
   "metadata": {},
   "outputs": [],
   "source": []
  },
  {
   "cell_type": "code",
   "execution_count": null,
   "metadata": {},
   "outputs": [],
   "source": []
  },
  {
   "cell_type": "code",
   "execution_count": null,
   "metadata": {},
   "outputs": [],
   "source": []
  },
  {
   "cell_type": "code",
   "execution_count": null,
   "metadata": {},
   "outputs": [],
   "source": []
  },
  {
   "cell_type": "markdown",
   "metadata": {},
   "source": []
  }
 ],
 "metadata": {
  "kernelspec": {
   "display_name": "Python 3",
   "language": "python",
   "name": "python3"
  },
  "language_info": {
   "codemirror_mode": {
    "name": "ipython",
    "version": 3
   },
   "file_extension": ".py",
   "mimetype": "text/x-python",
   "name": "python",
   "nbconvert_exporter": "python",
   "pygments_lexer": "ipython3",
   "version": "3.7.0"
  }
 },
 "nbformat": 4,
 "nbformat_minor": 2
}
