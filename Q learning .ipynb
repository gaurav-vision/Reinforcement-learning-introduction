{
 "cells": [
  {
   "cell_type": "code",
   "execution_count": 23,
   "metadata": {},
   "outputs": [],
   "source": [
    "%matplotlib inline\n",
    "import gym\n",
    "import itertools\n",
    "import matplotlib\n",
    "import numpy as np\n",
    "import pandas as pd\n",
    "import sys\n",
    "\n",
    "\n",
    "if \"../\" not in sys.path:\n",
    "    sys.path.append(\"../\")\n",
    "    \n",
    "from collections import defaultdict\n",
    "from lib.envs.cliff_walking import CliffWalkingEnv\n",
    "from lib import plotting\n",
    "\n",
    "matplotlib.style.use('ggplot')"
   ]
  },
  {
   "cell_type": "code",
   "execution_count": 24,
   "metadata": {},
   "outputs": [],
   "source": [
    "env = CliffWalkingEnv()"
   ]
  },
  {
   "cell_type": "code",
   "execution_count": 25,
   "metadata": {},
   "outputs": [],
   "source": [
    "def make_epsilon_greedy_policy(Q, epsilon, nA):\n",
    "    \"\"\"\n",
    "    create an epsilon greedy policy based on given Q function and function\n",
    "    \n",
    "    \"\"\"\n",
    "    \n",
    "    def policy_fn(observation):\n",
    "        A = np.ones(nA, dtype=float)*epsilon / nA\n",
    "        best_action = np.argmax(Q[observation])\n",
    "        A[best_action] += (1.0 - epsilon)\n",
    "        return A\n",
    "    return policy_fn"
   ]
  },
  {
   "cell_type": "code",
   "execution_count": 26,
   "metadata": {},
   "outputs": [],
   "source": [
    "def q_learning(env, num_episodes, discount_factor = 1.0, alpha=0.5, epsilon=0.1):\n",
    "    \"\"\"\n",
    "    Q learning algorithm: Off policy TD control. find the optimal greedy policy\n",
    "    while following an epsilon greedy policy\n",
    "    Args: \n",
    "        env: OpenAI environment.\n",
    "        num_episodes = number of episode to run for.\n",
    "        discount_factor = Gamma is a discount factor.\n",
    "        alpha = TD learning rate\n",
    "        epsilon = chance to sample random action (exploration rate) float between 0 and 1.\n",
    "        \n",
    "    Return:\n",
    "        A tuple (Q, episode_length)\n",
    "        Q is the optimal value function, a dictionary mapping state-> action values.\n",
    "        state is an Episodestate object with two numpy arrays for episode_length and episode_reward.\n",
    "    \"\"\"\n",
    "    #the final action-value function\n",
    "    # a nested dictionary that maps state -> action ->action_value.\n",
    "    \n",
    "    Q = defaultdict(lambda: np.zeros(env.action_space.n))\n",
    "    \n",
    "    #keep track of useful statistic\n",
    "   # stats = plottingEpisodeStats(\n",
    "    #episode_lengths = np.zeros(num_episodes),\n",
    "    #episode_rewards = np.zeros(num_episodes))\n",
    "    \n",
    "    \n",
    "    stats = plotting.EpisodeStats(\n",
    "        episode_lengths=np.zeros(num_episodes),\n",
    "        episode_rewards=np.zeros(num_episodes)) \n",
    "    #the policy we are following.\n",
    "    policy = make_epsilon_greedy_policy(Q, epsilon, env.action_space.n)\n",
    "    \n",
    "    for i_episode in range(num_episodes):\n",
    "        #print out which episode is on, useful for debugging\n",
    "        if(i_episode + 1) % 100 == 0:\n",
    "            print(\"\\rEpisode {}/{}.\".format(i_episode + 1, num_episodes), end=\"\")\n",
    "            sys.stdout.flush()\n",
    "        #reset the environment and pick the action\n",
    "        state = env.reset()\n",
    "        \n",
    "        # one step in the environment\n",
    "        #total reward = 0.0\n",
    "        for t in itertools.count():\n",
    "            #take a step\n",
    "            action_probs = policy(state)\n",
    "            action = np.random.choice(np.arange(len(action_probs)), p=action_probs)\n",
    "            next_state, reward, done, _ = env.step(action)\n",
    "            \n",
    "            #update statistic\n",
    "            stats.episode_rewards[i_episode] += reward\n",
    "            stats.episode_length[i_episode] = t\n",
    "            \n",
    "            \n",
    "            #TD update\n",
    "            best_next_action = np.argmax(Q[next_state])\n",
    "            td_target = reward + discount_factor * Q[next_state][best_next_action]\n",
    "            td_delta = td_target - Q[state][action]\n",
    "            Q[state][action] += alpha*td_delta\n",
    "            \n",
    "            if done:\n",
    "                break\n",
    "                \n",
    "            state = next_state\n",
    "            \n",
    "    return Q, stats"
   ]
  },
  {
   "cell_type": "code",
   "execution_count": 27,
   "metadata": {},
   "outputs": [
    {
     "ename": "AttributeError",
     "evalue": "module 'lib.plotting' has no attribute 'EpisodeStates'",
     "output_type": "error",
     "traceback": [
      "\u001b[1;31m---------------------------------------------------------------------------\u001b[0m",
      "\u001b[1;31mAttributeError\u001b[0m                            Traceback (most recent call last)",
      "\u001b[1;32m<ipython-input-27-787609f64ef9>\u001b[0m in \u001b[0;36m<module>\u001b[1;34m()\u001b[0m\n\u001b[1;32m----> 1\u001b[1;33m \u001b[0mQ\u001b[0m\u001b[1;33m,\u001b[0m \u001b[0mstates\u001b[0m \u001b[1;33m=\u001b[0m \u001b[0mq_learning\u001b[0m\u001b[1;33m(\u001b[0m\u001b[0menv\u001b[0m\u001b[1;33m,\u001b[0m \u001b[1;36m500\u001b[0m\u001b[1;33m)\u001b[0m\u001b[1;33m\u001b[0m\u001b[0m\n\u001b[0m",
      "\u001b[1;32m<ipython-input-26-8d0dc99d8693>\u001b[0m in \u001b[0;36mq_learning\u001b[1;34m(env, num_episodes, discount_factor, alpha, epsilon)\u001b[0m\n\u001b[0;32m     26\u001b[0m \u001b[1;33m\u001b[0m\u001b[0m\n\u001b[0;32m     27\u001b[0m \u001b[1;33m\u001b[0m\u001b[0m\n\u001b[1;32m---> 28\u001b[1;33m     states = plotting.EpisodeStates(\n\u001b[0m\u001b[0;32m     29\u001b[0m         \u001b[0mepisode_lengths\u001b[0m\u001b[1;33m=\u001b[0m\u001b[0mnp\u001b[0m\u001b[1;33m.\u001b[0m\u001b[0mzeros\u001b[0m\u001b[1;33m(\u001b[0m\u001b[0mnum_episodes\u001b[0m\u001b[1;33m)\u001b[0m\u001b[1;33m,\u001b[0m\u001b[1;33m\u001b[0m\u001b[0m\n\u001b[0;32m     30\u001b[0m         episode_rewards=np.zeros(num_episodes)) \n",
      "\u001b[1;31mAttributeError\u001b[0m: module 'lib.plotting' has no attribute 'EpisodeStates'"
     ]
    }
   ],
   "source": [
    "Q, states = q_learning(env, 500)"
   ]
  },
  {
   "cell_type": "code",
   "execution_count": null,
   "metadata": {},
   "outputs": [],
   "source": []
  },
  {
   "cell_type": "code",
   "execution_count": null,
   "metadata": {},
   "outputs": [],
   "source": []
  }
 ],
 "metadata": {
  "kernelspec": {
   "display_name": "Python 3",
   "language": "python",
   "name": "python3"
  },
  "language_info": {
   "codemirror_mode": {
    "name": "ipython",
    "version": 3
   },
   "file_extension": ".py",
   "mimetype": "text/x-python",
   "name": "python",
   "nbconvert_exporter": "python",
   "pygments_lexer": "ipython3",
   "version": "3.7.0"
  }
 },
 "nbformat": 4,
 "nbformat_minor": 2
}
