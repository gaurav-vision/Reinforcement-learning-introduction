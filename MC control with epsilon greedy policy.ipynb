{
 "cells": [
  {
   "cell_type": "code",
   "execution_count": 1,
   "metadata": {},
   "outputs": [],
   "source": [
    "%matplotlib inline\n",
    "import gym\n",
    "import matplotlib\n",
    "import numpy as np \n",
    "import sys\n",
    "from collections import defaultdict\n",
    "if \"../\" not in sys.path:\n",
    "    sys.path.append(\"../\")\n",
    "\n",
    "from lib.envs.blackjack import BlackjackEnv\n",
    "from lib import plotting\n",
    "\n",
    "matplotlib.style.use('ggplot')\n",
    "    "
   ]
  },
  {
   "cell_type": "code",
   "execution_count": 2,
   "metadata": {},
   "outputs": [],
   "source": [
    "env = BlackjackEnv()"
   ]
  },
  {
   "cell_type": "code",
   "execution_count": null,
   "metadata": {},
   "outputs": [],
   "source": [
    "def make_epsilon_greedy_policy(Q, epsilon, nA):\n",
    "    \"\"\"Create a epsilon greedy policy based on given Q function and epsilon.\n",
    "    Args: \n",
    "        Q: A dictionary map from state to action value function.\n",
    "            each value is a numpy array of length nA.\n",
    "        epsilon: The probability to select a random action.\n",
    "        nA: number of action in the environment.\n",
    "        \n",
    "    Return:\n",
    "        A function that takes the observation as an argument returns the probability\n",
    "        for each action in the form of a numpy array of length nA.\n",
    "        \n",
    "    \"\"\"\n",
    "    \n",
    "    def policy_fn(observation):\n",
    "        pass\n",
    "    \n",
    "    return policy_fn"
   ]
  },
  {
   "cell_type": "code",
   "execution_count": null,
   "metadata": {},
   "outputs": [],
   "source": [
    "def mc_control_epsilon_greedy(env, num_episodes, discount_factor = 1.0, epsilon=0.1):\n",
    "    \"\"\"Monte carlo using epsilon greedy policy.\n",
    "    \n",
    "       find an optimal epsilon greedy policy\n",
    "       Args:\n",
    "            env: open AI gym environment\n",
    "            num_episodes: no of episode to sample\n",
    "            discount factor: gamma is a discount factor\n",
    "            epsilon: chance the simple random function(float between 0 and 1)\n",
    "            \n",
    "        Returns:\n",
    "            A tuple(Q, policy)\n",
    "            Q is a dictionary mapping state action value\n",
    "            policy is an function that takes an observation as an arguments and returns\n",
    "            action probabilities.\n",
    "           \"\"\"\n",
    "    #keep track of the sum and count of the returns for each state\n",
    "    #to calculate an average. we could an average to save all.\n",
    "    #return like in the book but thats memory inefficient\n",
    "    \n",
    "    returns_sum = defaultdict(float)\n",
    "    returns_count = defaultdict(float)\n",
    "    \n",
    "    #the final action value function\n",
    "    # A nested dictionary that maps state action action value\n",
    "    \n",
    "    Q = defaultdict(lambda: np.zeros(env.action_space.n))\n",
    "    \n",
    "    #the policy we are following\n",
    "    policy = make_epsilon_greedy_policy()"
   ]
  },
  {
   "cell_type": "code",
   "execution_count": null,
   "metadata": {},
   "outputs": [],
   "source": []
  },
  {
   "cell_type": "code",
   "execution_count": null,
   "metadata": {},
   "outputs": [],
   "source": []
  }
 ],
 "metadata": {
  "kernelspec": {
   "display_name": "Python 3",
   "language": "python",
   "name": "python3"
  },
  "language_info": {
   "codemirror_mode": {
    "name": "ipython",
    "version": 3
   },
   "file_extension": ".py",
   "mimetype": "text/x-python",
   "name": "python",
   "nbconvert_exporter": "python",
   "pygments_lexer": "ipython3",
   "version": "3.7.0"
  }
 },
 "nbformat": 4,
 "nbformat_minor": 2
}
