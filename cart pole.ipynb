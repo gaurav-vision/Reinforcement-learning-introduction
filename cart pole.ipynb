{
 "cells": [
  {
   "cell_type": "code",
   "execution_count": 11,
   "metadata": {},
   "outputs": [],
   "source": [
    "import numpy as np\n",
    "import gym\n",
    "import matplotlib.pyplot as plt"
   ]
  },
  {
   "cell_type": "code",
   "execution_count": 12,
   "metadata": {},
   "outputs": [],
   "source": [
    "env = gym.make(\"CartPole-v0\")\n",
    "#plt.imshow(env.render(\"rgb_array\"))\n",
    "parameters = np.random.rand(4)*2 - 1"
   ]
  },
  {
   "cell_type": "code",
   "execution_count": 13,
   "metadata": {},
   "outputs": [],
   "source": [
    "def run_episode(env, parameters):\n",
    "    observation = env.reset()\n",
    "    totalreward=0\n",
    "    for _ in xrange(200):\n",
    "        action = 0 if np.matmul(parameters, observation) < 0 else 1\n",
    "        observation, reward, done, info = env.step(action)\n",
    "        totalreward += reward\n",
    "        if done:\n",
    "            break\n",
    "    return totalreward\n",
    "\n",
    "    bestparams = None\n",
    "    bestreward = 0\n",
    "    for _ in xrange(10000):\n",
    "        parameters = np.random.rand(4) * 2 - 1\n",
    "        reward = run_episode(env, parameters)\n",
    "        if reward > bestreward:\n",
    "            bestreward = reward\n",
    "            bestparameters = parameters\n",
    "            if reward == 200:\n",
    "                break\n",
    "                \n",
    "        reward = run_episode(env, parameters)\n",
    "        reward = 0\n",
    "        for _ in xrange(episodes_per_update):\n",
    "            run = run_episode(env, new_params)\n",
    "            reward += run\n",
    "            "
   ]
  },
  {
   "cell_type": "code",
   "execution_count": 14,
   "metadata": {},
   "outputs": [],
   "source": [
    "def policy_gradient():\n",
    "    params = tf.get_variable(\"policy_parameters\",[4,2])\n",
    "    state = tf.placeholder(\"float\", [None, 4])\n",
    "    linear = tf.matmul(state, params)\n",
    "    probabilities = tf.nn.softmax(linear)"
   ]
  },
  {
   "cell_type": "code",
   "execution_count": null,
   "metadata": {},
   "outputs": [],
   "source": [
    "def policy_gradient():\n",
    "    params = tf.get_variable(\"\")"
   ]
  },
  {
   "cell_type": "code",
   "execution_count": null,
   "metadata": {},
   "outputs": [],
   "source": []
  },
  {
   "cell_type": "code",
   "execution_count": null,
   "metadata": {},
   "outputs": [],
   "source": [
    "\n",
    "\n",
    "\n"
   ]
  }
 ],
 "metadata": {
  "kernelspec": {
   "display_name": "Python 3",
   "language": "python",
   "name": "python3"
  },
  "language_info": {
   "codemirror_mode": {
    "name": "ipython",
    "version": 3
   },
   "file_extension": ".py",
   "mimetype": "text/x-python",
   "name": "python",
   "nbconvert_exporter": "python",
   "pygments_lexer": "ipython3",
   "version": "3.7.0"
  }
 },
 "nbformat": 4,
 "nbformat_minor": 2
}
